{
 "cells": [
  {
   "cell_type": "code",
   "execution_count": 2,
   "id": "38a0502e-27e3-4217-872c-e3e5aa61c499",
   "metadata": {},
   "outputs": [
    {
     "name": "stdout",
     "output_type": "stream",
     "text": [
      "[[1, 2, 3], [4, 5, 6], [7, 8, 9]]\n"
     ]
    },
    {
     "data": {
      "text/plain": [
       "list"
      ]
     },
     "execution_count": 2,
     "metadata": {},
     "output_type": "execute_result"
    }
   ],
   "source": [
    "vec = [[1,2,3],[4,5,6],[7,8,9]]\n",
    "print(vec)\n",
    "type(vec)"
   ]
  },
  {
   "cell_type": "code",
   "execution_count": 3,
   "id": "83dd3051-7100-4fb0-9fc9-fb5867383023",
   "metadata": {},
   "outputs": [],
   "source": [
    "import numpy as np"
   ]
  },
  {
   "cell_type": "code",
   "execution_count": 4,
   "id": "67f15662-77d2-4763-8d01-44c90beb10f7",
   "metadata": {},
   "outputs": [
    {
     "data": {
      "text/plain": [
       "3"
      ]
     },
     "execution_count": 4,
     "metadata": {},
     "output_type": "execute_result"
    }
   ],
   "source": [
    "len(vec)"
   ]
  },
  {
   "cell_type": "code",
   "execution_count": 5,
   "id": "618f359a-dcc9-49b1-824e-37498d60df1d",
   "metadata": {},
   "outputs": [
    {
     "data": {
      "text/plain": [
       "8"
      ]
     },
     "execution_count": 5,
     "metadata": {},
     "output_type": "execute_result"
    }
   ],
   "source": [
    "vec[2][1]"
   ]
  },
  {
   "cell_type": "code",
   "execution_count": 16,
   "id": "fc943934-75f1-407d-89ce-52d78c9f5905",
   "metadata": {},
   "outputs": [
    {
     "name": "stdout",
     "output_type": "stream",
     "text": [
      "[1, 2, 3]\n",
      "[4, 5, 6]\n",
      "[7, 8, 9]\n"
     ]
    }
   ],
   "source": [
    "for i in vec:\n",
    "    print(i)"
   ]
  },
  {
   "cell_type": "code",
   "execution_count": 31,
   "id": "1b484244-6b32-45bf-a3e4-ddf84ed27519",
   "metadata": {},
   "outputs": [
    {
     "name": "stdout",
     "output_type": "stream",
     "text": [
      "[[1 2 3]\n",
      " [4 5 6]\n",
      " [7 8 9]]\n",
      "<class 'numpy.ndarray'>\n",
      "[[1 2 3]\n",
      " [1 2 3]\n",
      " [4 5 6]]\n",
      "<class 'numpy.ndarray'>\n"
     ]
    }
   ],
   "source": [
    "arr1 = np.array([[1,2,3],[4,5,6],[7,8,9]])\n",
    "arr2 = np.array([[1,2,3],[1, 2, 3], [4, 5, 6]])\n",
    "\n",
    "print(arr1)\n",
    "\n",
    "print(type(arr1))\n",
    "\n",
    "print(arr2)\n",
    "\n",
    "print(type(arr2))"
   ]
  },
  {
   "cell_type": "code",
   "execution_count": 25,
   "id": "4de367e9-e457-4cd3-abd6-991fc0fd6e05",
   "metadata": {},
   "outputs": [
    {
     "data": {
      "text/plain": [
       "array([[ 2,  4,  6],\n",
       "       [ 5,  7,  9],\n",
       "       [11, 13, 15]])"
      ]
     },
     "execution_count": 25,
     "metadata": {},
     "output_type": "execute_result"
    }
   ],
   "source": [
    "x = np.add(arr1,arr2)\n",
    "x"
   ]
  },
  {
   "cell_type": "code",
   "execution_count": 27,
   "id": "288ca152-19b0-4108-8eb5-121fa536e262",
   "metadata": {},
   "outputs": [
    {
     "data": {
      "text/plain": [
       "array([[0, 0, 0],\n",
       "       [3, 3, 3],\n",
       "       [3, 3, 3]])"
      ]
     },
     "execution_count": 27,
     "metadata": {},
     "output_type": "execute_result"
    }
   ],
   "source": [
    "y = np.subtract(arr1,arr2)\n",
    "y"
   ]
  },
  {
   "cell_type": "code",
   "execution_count": 28,
   "id": "5d2aded1-dfd2-4b5c-8835-7bb63588931e",
   "metadata": {},
   "outputs": [
    {
     "data": {
      "text/plain": [
       "array([[ 1,  4,  9],\n",
       "       [ 4, 10, 18],\n",
       "       [28, 40, 54]])"
      ]
     },
     "execution_count": 28,
     "metadata": {},
     "output_type": "execute_result"
    }
   ],
   "source": [
    " np.multiply(arr1,arr2)"
   ]
  },
  {
   "cell_type": "code",
   "execution_count": 30,
   "id": "1ac71337-5078-4930-8917-def3c1eb4472",
   "metadata": {},
   "outputs": [
    {
     "data": {
      "text/plain": [
       "array([[1, 4, 7],\n",
       "       [2, 5, 8],\n",
       "       [3, 6, 9]])"
      ]
     },
     "execution_count": 30,
     "metadata": {},
     "output_type": "execute_result"
    }
   ],
   "source": [
    " np.transpose(arr1)"
   ]
  },
  {
   "cell_type": "code",
   "execution_count": 32,
   "id": "3b80b18d-504e-4253-b9e6-a78f7649e72a",
   "metadata": {},
   "outputs": [
    {
     "data": {
      "text/plain": [
       "array([[15, 21, 27],\n",
       "       [33, 48, 63],\n",
       "       [51, 75, 99]])"
      ]
     },
     "execution_count": 32,
     "metadata": {},
     "output_type": "execute_result"
    }
   ],
   "source": [
    " np.dot(arr1,arr2)"
   ]
  },
  {
   "cell_type": "code",
   "execution_count": 35,
   "id": "a707fbf0-2cc3-42d6-b9e2-3ed32e01182d",
   "metadata": {},
   "outputs": [
    {
     "data": {
      "text/plain": [
       "array([[1., 0.],\n",
       "       [0., 1.]])"
      ]
     },
     "execution_count": 35,
     "metadata": {},
     "output_type": "execute_result"
    }
   ],
   "source": [
    "np.eye(2)"
   ]
  },
  {
   "cell_type": "code",
   "execution_count": 34,
   "id": "a6fabdef-40e5-4576-b03f-207a7c8bc916",
   "metadata": {},
   "outputs": [
    {
     "name": "stdout",
     "output_type": "stream",
     "text": [
      "[[1 2 3]\n",
      " [4 5 6]\n",
      " [7 8 9]]\n"
     ]
    }
   ],
   "source": [
    "print(arr1)"
   ]
  },
  {
   "cell_type": "code",
   "execution_count": 36,
   "id": "f2c1b8f1-0d25-44bd-b453-ae39819526f6",
   "metadata": {},
   "outputs": [
    {
     "name": "stdout",
     "output_type": "stream",
     "text": [
      "[[2 1 0]\n",
      " [0 1 0]\n",
      " [1 2 1]]= a\n",
      "[[ 0.5 -0.5  0. ]\n",
      " [ 0.   1.   0. ]\n",
      " [-0.5 -1.5  1. ]]  =  |a|"
     ]
    }
   ],
   "source": [
    "# Inverse a matrix\n",
    "# Given a square matrix a \n",
    "#, return a matrix ainv satisfying dot(a, ainv)\n",
    "#         = dot(ainv, a) = eye(a.shape[0]).\n",
    "a = np.array([\n",
    "    [2,1,0],\n",
    "    [0,1,0],\n",
    "    [1,2,1],\n",
    "])\n",
    "print(a, end= '= a\\n')\n",
    "print(np.linalg.inv(a), end='  =  |a|')"
   ]
  },
  {
   "cell_type": "code",
   "execution_count": 39,
   "id": "c5806f8b-e2a4-4610-a1cf-0a78596c82e7",
   "metadata": {},
   "outputs": [
    {
     "name": "stdout",
     "output_type": "stream",
     "text": [
      "Iteration 1 \n",
      " value is  3.0\n",
      "Iteration 2 \n",
      " value is  1.4\n",
      "Iteration 3 \n",
      " value is  0.11999999999999966\n",
      "Iteration 4 \n",
      " value is  -0.9040000000000001\n",
      "Iteration 5 \n",
      " value is  -1.7232000000000003\n",
      "Iteration 6 \n",
      " value is  -2.3785600000000002\n",
      "Iteration 7 \n",
      " value is  -2.902848\n",
      "Iteration 8 \n",
      " value is  -3.3222784\n",
      "The local minimum occurs at -3.3222784\n"
     ]
    }
   ],
   "source": [
    "\n",
    "#gradient descent\n",
    "\n",
    "cur_x =5\n",
    "rate =0.1\n",
    "precision =0.5\n",
    "previous_step_size = 1\n",
    "max_iters = 10000000\n",
    "iters =0\n",
    "\n",
    "df = lambda x: 2*(x+5)\n",
    "\n",
    "while previous_step_size > precision and iters < max_iters:\n",
    "    prev_x = cur_x\n",
    "    cur_x = cur_x - rate * df(prev_x)\n",
    "    previous_step_size = abs(cur_x - prev_x)\n",
    "    iters = iters +1\n",
    "    print(\"Iteration\",iters,\"\\n value is \", cur_x)\n",
    "\n",
    "print(\"The local minimum occurs at\",cur_x)"
   ]
  },
  {
   "cell_type": "code",
   "execution_count": null,
   "id": "cec156ac-6968-4ded-bc38-2573cbaf2c19",
   "metadata": {},
   "outputs": [],
   "source": []
  }
 ],
 "metadata": {
  "kernelspec": {
   "display_name": "Python 3 (ipykernel)",
   "language": "python",
   "name": "python3"
  },
  "language_info": {
   "codemirror_mode": {
    "name": "ipython",
    "version": 3
   },
   "file_extension": ".py",
   "mimetype": "text/x-python",
   "name": "python",
   "nbconvert_exporter": "python",
   "pygments_lexer": "ipython3",
   "version": "3.11.7"
  }
 },
 "nbformat": 4,
 "nbformat_minor": 5
}
